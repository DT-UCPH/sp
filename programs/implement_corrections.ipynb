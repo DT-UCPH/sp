{
 "cells": [
  {
   "cell_type": "markdown",
   "id": "6aa610b6",
   "metadata": {},
   "source": [
    "# Implement corrections"
   ]
  },
  {
   "cell_type": "code",
   "execution_count": 1,
   "id": "92fdf182",
   "metadata": {},
   "outputs": [],
   "source": [
    "import pandas as pd\n",
    "from re import sub"
   ]
  },
  {
   "cell_type": "code",
   "execution_count": 3,
   "id": "fa8aaede",
   "metadata": {},
   "outputs": [
    {
     "data": {
      "text/html": [
       "<div>\n",
       "<style scoped>\n",
       "    .dataframe tbody tr th:only-of-type {\n",
       "        vertical-align: middle;\n",
       "    }\n",
       "\n",
       "    .dataframe tbody tr th {\n",
       "        vertical-align: top;\n",
       "    }\n",
       "\n",
       "    .dataframe thead th {\n",
       "        text-align: right;\n",
       "    }\n",
       "</style>\n",
       "<table border=\"1\" class=\"dataframe\">\n",
       "  <thead>\n",
       "    <tr style=\"text-align: right;\">\n",
       "      <th></th>\n",
       "      <th>Unnamed: 0</th>\n",
       "      <th>line</th>\n",
       "      <th>ref</th>\n",
       "      <th>raw</th>\n",
       "      <th>C_disambig</th>\n",
       "      <th>g_cons_raw</th>\n",
       "      <th>lex</th>\n",
       "      <th>sp</th>\n",
       "    </tr>\n",
       "  </thead>\n",
       "  <tbody>\n",
       "    <tr>\n",
       "      <th>0</th>\n",
       "      <td>0</td>\n",
       "      <td>0</td>\n",
       "      <td>Genesis 1 1</td>\n",
       "      <td>BR&gt;CJT</td>\n",
       "      <td>BR&gt;CJT</td>\n",
       "      <td>B-R&gt;CJT</td>\n",
       "      <td>B-R&gt;CJT/</td>\n",
       "      <td>prep-subs</td>\n",
       "    </tr>\n",
       "    <tr>\n",
       "      <th>1</th>\n",
       "      <td>1</td>\n",
       "      <td>1</td>\n",
       "      <td>Genesis 1 1</td>\n",
       "      <td>BR&gt;</td>\n",
       "      <td>BR&gt;</td>\n",
       "      <td>BR&gt;</td>\n",
       "      <td>BR&gt;[</td>\n",
       "      <td>verb</td>\n",
       "    </tr>\n",
       "    <tr>\n",
       "      <th>2</th>\n",
       "      <td>2</td>\n",
       "      <td>2</td>\n",
       "      <td>Genesis 1 1</td>\n",
       "      <td>&gt;LHJM</td>\n",
       "      <td>&gt;LHJM</td>\n",
       "      <td>&gt;LHJM</td>\n",
       "      <td>&gt;LHJM/</td>\n",
       "      <td>subs</td>\n",
       "    </tr>\n",
       "    <tr>\n",
       "      <th>3</th>\n",
       "      <td>3</td>\n",
       "      <td>3</td>\n",
       "      <td>Genesis 1 1</td>\n",
       "      <td>&gt;T</td>\n",
       "      <td>&gt;T</td>\n",
       "      <td>&gt;T</td>\n",
       "      <td>&gt;T</td>\n",
       "      <td>prep</td>\n",
       "    </tr>\n",
       "    <tr>\n",
       "      <th>4</th>\n",
       "      <td>4</td>\n",
       "      <td>4</td>\n",
       "      <td>Genesis 1 1</td>\n",
       "      <td>HCMJM</td>\n",
       "      <td>HCMJM</td>\n",
       "      <td>H-CMJM</td>\n",
       "      <td>H-CMJM/</td>\n",
       "      <td>art-subs</td>\n",
       "    </tr>\n",
       "    <tr>\n",
       "      <th>...</th>\n",
       "      <td>...</td>\n",
       "      <td>...</td>\n",
       "      <td>...</td>\n",
       "      <td>...</td>\n",
       "      <td>...</td>\n",
       "      <td>...</td>\n",
       "      <td>...</td>\n",
       "      <td>...</td>\n",
       "    </tr>\n",
       "    <tr>\n",
       "      <th>20801</th>\n",
       "      <td>20801</td>\n",
       "      <td>20875</td>\n",
       "      <td>Genesis 50 26</td>\n",
       "      <td>WJXNVW</td>\n",
       "      <td>WJXNVW</td>\n",
       "      <td>W-JXNVW</td>\n",
       "      <td>W-XNV[</td>\n",
       "      <td>conj-verb</td>\n",
       "    </tr>\n",
       "    <tr>\n",
       "      <th>20802</th>\n",
       "      <td>20802</td>\n",
       "      <td>20876</td>\n",
       "      <td>Genesis 50 26</td>\n",
       "      <td>&gt;TW</td>\n",
       "      <td>&gt;TW</td>\n",
       "      <td>&gt;TW</td>\n",
       "      <td>&gt;T</td>\n",
       "      <td>prep</td>\n",
       "    </tr>\n",
       "    <tr>\n",
       "      <th>20803</th>\n",
       "      <td>20803</td>\n",
       "      <td>20877</td>\n",
       "      <td>Genesis 50 26</td>\n",
       "      <td>WJWCM</td>\n",
       "      <td>WJWFM</td>\n",
       "      <td>W-JWCM</td>\n",
       "      <td>W-JFM[</td>\n",
       "      <td>conj-verb</td>\n",
       "    </tr>\n",
       "    <tr>\n",
       "      <th>20804</th>\n",
       "      <td>20804</td>\n",
       "      <td>20878</td>\n",
       "      <td>Genesis 50 26</td>\n",
       "      <td>B&gt;RN</td>\n",
       "      <td>B&gt;RN</td>\n",
       "      <td>B-&gt;RN</td>\n",
       "      <td>B-&gt;RWN/</td>\n",
       "      <td>prep-subs</td>\n",
       "    </tr>\n",
       "    <tr>\n",
       "      <th>20805</th>\n",
       "      <td>20805</td>\n",
       "      <td>20879</td>\n",
       "      <td>Genesis 50 26</td>\n",
       "      <td>BMYRJM</td>\n",
       "      <td>BMYRJM</td>\n",
       "      <td>B-MYRJM</td>\n",
       "      <td>B-MYRJM/</td>\n",
       "      <td>prep-nmpr</td>\n",
       "    </tr>\n",
       "  </tbody>\n",
       "</table>\n",
       "<p>20806 rows × 8 columns</p>\n",
       "</div>"
      ],
      "text/plain": [
       "       Unnamed: 0   line            ref     raw C_disambig g_cons_raw  \\\n",
       "0               0      0    Genesis 1 1  BR>CJT     BR>CJT    B-R>CJT   \n",
       "1               1      1    Genesis 1 1     BR>        BR>        BR>   \n",
       "2               2      2    Genesis 1 1   >LHJM      >LHJM      >LHJM   \n",
       "3               3      3    Genesis 1 1      >T         >T         >T   \n",
       "4               4      4    Genesis 1 1   HCMJM      HCMJM     H-CMJM   \n",
       "...           ...    ...            ...     ...        ...        ...   \n",
       "20801       20801  20875  Genesis 50 26  WJXNVW     WJXNVW    W-JXNVW   \n",
       "20802       20802  20876  Genesis 50 26     >TW        >TW        >TW   \n",
       "20803       20803  20877  Genesis 50 26   WJWCM      WJWFM     W-JWCM   \n",
       "20804       20804  20878  Genesis 50 26    B>RN       B>RN      B->RN   \n",
       "20805       20805  20879  Genesis 50 26  BMYRJM     BMYRJM    B-MYRJM   \n",
       "\n",
       "            lex         sp  \n",
       "0      B-R>CJT/  prep-subs  \n",
       "1          BR>[       verb  \n",
       "2        >LHJM/       subs  \n",
       "3            >T       prep  \n",
       "4       H-CMJM/   art-subs  \n",
       "...         ...        ...  \n",
       "20801    W-XNV[  conj-verb  \n",
       "20802        >T       prep  \n",
       "20803    W-JFM[  conj-verb  \n",
       "20804   B->RWN/  prep-subs  \n",
       "20805  B-MYRJM/  prep-nmpr  \n",
       "\n",
       "[20806 rows x 8 columns]"
      ]
     },
     "execution_count": 3,
     "metadata": {},
     "output_type": "execute_result"
    }
   ],
   "source": [
    "df = pd.read_excel('./data/corrections_1.xlsx')\n",
    "df"
   ]
  },
  {
   "cell_type": "markdown",
   "id": "41d8531a",
   "metadata": {},
   "source": [
    "### Test corrections"
   ]
  },
  {
   "cell_type": "code",
   "execution_count": 4,
   "id": "3f99e179",
   "metadata": {},
   "outputs": [
    {
     "name": "stdout",
     "output_type": "stream",
     "text": [
      "No errors detected\n"
     ]
    }
   ],
   "source": [
    "errors = []\n",
    "\n",
    "for n, row in df.iterrows():\n",
    "    if row['lex'] != 'absent':\n",
    "        if len(row['g_cons_raw'].split('-')) != len(row['lex'].split('-')):\n",
    "            errors.append(n)\n",
    "        if len(row['g_cons_raw'].split('-')) != len(row['sp'].split('-')):\n",
    "            errors.append(n)\n",
    "            \n",
    "if not errors:\n",
    "    print(\"No errors detected\")\n",
    "else:\n",
    "    display(df[df.index.isin(errors)])"
   ]
  },
  {
   "cell_type": "markdown",
   "id": "cd175ff9",
   "metadata": {},
   "source": [
    "### Apply disambiguation (C and F)"
   ]
  },
  {
   "cell_type": "code",
   "execution_count": 5,
   "id": "d731ad72",
   "metadata": {},
   "outputs": [],
   "source": [
    "def disambiguate(feature):\n",
    "    \n",
    "    feat_upd = []\n",
    "\n",
    "    for n, row in df.iterrows():\n",
    "\n",
    "        if 'F' in row['C_disambig']:\n",
    "            feat_upd.append(sub('C','F', row[feature]))\n",
    "            if 'F' in row['C_disambig'] and 'C' in row['C_disambig']:\n",
    "                print(f\"{n}\\t{row['C_disambig']}\")\n",
    "        else:\n",
    "            feat_upd.append(row[feature])\n",
    "            \n",
    "    return feat_upd"
   ]
  },
  {
   "cell_type": "code",
   "execution_count": 6,
   "id": "725830b8",
   "metadata": {},
   "outputs": [
    {
     "name": "stdout",
     "output_type": "stream",
     "text": [
      "11402\tJCFKR\n",
      "14023\tWJCFKR\n",
      "18934\tJCFKR\n",
      "20202\tJCFKR\n"
     ]
    }
   ],
   "source": [
    "df['g_cons'] = disambiguate('g_cons_raw')"
   ]
  },
  {
   "cell_type": "markdown",
   "id": "8f16d7c5",
   "metadata": {},
   "source": [
    "### Export"
   ]
  },
  {
   "cell_type": "code",
   "execution_count": 7,
   "id": "eb2ee497",
   "metadata": {},
   "outputs": [],
   "source": [
    "df.to_excel('./data/corrected_data.xlsx')"
   ]
  }
 ],
 "metadata": {
  "kernelspec": {
   "display_name": "Python 3 (ipykernel)",
   "language": "python",
   "name": "python3"
  },
  "language_info": {
   "codemirror_mode": {
    "name": "ipython",
    "version": 3
   },
   "file_extension": ".py",
   "mimetype": "text/x-python",
   "name": "python",
   "nbconvert_exporter": "python",
   "pygments_lexer": "ipython3",
   "version": "3.9.7"
  }
 },
 "nbformat": 4,
 "nbformat_minor": 5
}
